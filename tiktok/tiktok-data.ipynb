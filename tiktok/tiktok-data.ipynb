{
 "cells": [
  {
   "cell_type": "code",
   "execution_count": 30,
   "metadata": {},
   "outputs": [],
   "source": [
    "from pytiktok import KitApi\n",
    "kit_api = KitApi(access_token=\"act.ca3db04f928f118a791d0ecf59f52cd3WUmEJKgiPyJAM13uJIshw7XTB3kI!6344\")"
   ]
  },
  {
   "cell_type": "code",
   "execution_count": 31,
   "metadata": {},
   "outputs": [
    {
     "ename": "PyTiktokError",
     "evalue": "{'code': 20000, 'log_id': '20230313150711569C34A9EB58AA52139B', 'message': 'invalid access_token.'}",
     "output_type": "error",
     "traceback": [
      "\u001b[0;31m---------------------------------------------------------------------------\u001b[0m",
      "\u001b[0;31mPyTiktokError\u001b[0m                             Traceback (most recent call last)",
      "Cell \u001b[0;32mIn[31], line 1\u001b[0m\n\u001b[0;32m----> 1\u001b[0m kit_api\u001b[39m.\u001b[39;49mget_user_info(open_id\u001b[39m=\u001b[39;49m\u001b[39m\"\u001b[39;49m\u001b[39mc40ec77d-8bf0-4325-881a-c2358ccbe022\u001b[39;49m\u001b[39m\"\u001b[39;49m, return_json\u001b[39m=\u001b[39;49m\u001b[39mTrue\u001b[39;49;00m)\n",
      "File \u001b[0;32m~/.local/lib/python3.8/site-packages/pytiktok/kit_api.py:308\u001b[0m, in \u001b[0;36mKitApi.get_user_info\u001b[0;34m(self, open_id, fields, return_json)\u001b[0m\n\u001b[1;32m    300\u001b[0m     fields \u001b[39m=\u001b[39m [\u001b[39m\"\u001b[39m\u001b[39mopen_id\u001b[39m\u001b[39m\"\u001b[39m, \u001b[39m\"\u001b[39m\u001b[39munion_id\u001b[39m\u001b[39m\"\u001b[39m, \u001b[39m\"\u001b[39m\u001b[39mdisplay_name\u001b[39m\u001b[39m\"\u001b[39m, \u001b[39m\"\u001b[39m\u001b[39mavatar_url\u001b[39m\u001b[39m\"\u001b[39m]\n\u001b[1;32m    301\u001b[0m resp \u001b[39m=\u001b[39m \u001b[39mself\u001b[39m\u001b[39m.\u001b[39m_request(\n\u001b[1;32m    302\u001b[0m     path\u001b[39m=\u001b[39m\u001b[39m\"\u001b[39m\u001b[39muser/info/\u001b[39m\u001b[39m\"\u001b[39m,\n\u001b[1;32m    303\u001b[0m     json\u001b[39m=\u001b[39m{\n\u001b[0;32m   (...)\u001b[0m\n\u001b[1;32m    306\u001b[0m     },\n\u001b[1;32m    307\u001b[0m )\n\u001b[0;32m--> 308\u001b[0m data \u001b[39m=\u001b[39m \u001b[39mself\u001b[39;49m\u001b[39m.\u001b[39;49mparse_response(resp)\n\u001b[1;32m    309\u001b[0m \u001b[39mreturn\u001b[39;00m data \u001b[39mif\u001b[39;00m return_json \u001b[39melse\u001b[39;00m mds\u001b[39m.\u001b[39mKitUserResponse\u001b[39m.\u001b[39mnew_from_json_dict(data)\n",
      "File \u001b[0;32m~/.local/lib/python3.8/site-packages/pytiktok/kit_api.py:282\u001b[0m, in \u001b[0;36mKitApi.parse_response\u001b[0;34m(response)\u001b[0m\n\u001b[1;32m    280\u001b[0m     \u001b[39mraise\u001b[39;00m PyTiktokError(\u001b[39mf\u001b[39m\u001b[39m\"\u001b[39m\u001b[39mUnknown error: \u001b[39m\u001b[39m{\u001b[39;00mresponse\u001b[39m.\u001b[39mtext\u001b[39m}\u001b[39;00m\u001b[39m\"\u001b[39m)\n\u001b[1;32m    281\u001b[0m \u001b[39mif\u001b[39;00m \u001b[39m\"\u001b[39m\u001b[39merror\u001b[39m\u001b[39m\"\u001b[39m \u001b[39min\u001b[39;00m data \u001b[39mand\u001b[39;00m data[\u001b[39m\"\u001b[39m\u001b[39merror\u001b[39m\u001b[39m\"\u001b[39m]\u001b[39m.\u001b[39mget(\u001b[39m\"\u001b[39m\u001b[39mcode\u001b[39m\u001b[39m\"\u001b[39m) \u001b[39m!=\u001b[39m \u001b[39m0\u001b[39m:\n\u001b[0;32m--> 282\u001b[0m     \u001b[39mraise\u001b[39;00m PyTiktokError(data[\u001b[39m\"\u001b[39m\u001b[39merror\u001b[39m\u001b[39m\"\u001b[39m])\n\u001b[1;32m    283\u001b[0m \u001b[39mreturn\u001b[39;00m data\n",
      "\u001b[0;31mPyTiktokError\u001b[0m: {'code': 20000, 'log_id': '20230313150711569C34A9EB58AA52139B', 'message': 'invalid access_token.'}"
     ]
    }
   ],
   "source": [
    "kit_api.get_user_info(open_id=\"c40ec77d-8bf0-4325-881a-c2358ccbe022\", return_json=True)\n"
   ]
  },
  {
   "cell_type": "code",
   "execution_count": 27,
   "metadata": {},
   "outputs": [],
   "source": [
    "# Importing the tiktok Python SDK\n",
    "from TikTokApi import TikTokApi as tiktok\n",
    "# Import JSON for export of data\n",
    "import json\n",
    "# Import pandas to create dataframes\n",
    "import pandas as pd\n",
    "# Import sys dependency to extract command line arguments\n",
    "import sys\n",
    "\n",
    "def get_data(hashtag):\n",
    "    # Get cookie data\n",
    "    verifyFp = \"verify_kx2ee558_BH6fvQVi_cXHF_4lfK_Bimg_hH0lYMCV6Vm6\"\n",
    "    # Setup instance\n",
    "    api = tiktok.get_instance(custom_verifyFp=verifyFp, use_test_endpoints=True)\n",
    "    # Get data by hashtag\n",
    "    trending = api.by_hashtag(hashtag)\n",
    "    # Process data\n",
    "    #flattened_data = process_results(trending)\n",
    "    # Convert the preprocessed data to a dataframe\n",
    "    #df = pd.DataFrame.from_dict(flattened_data, orient='index')\n",
    "   # df.to_csv('tiktokdata.csv', index=False)\n",
    "\n"
   ]
  }
 ],
 "metadata": {
  "kernelspec": {
   "display_name": "Python 3",
   "language": "python",
   "name": "python3"
  },
  "language_info": {
   "codemirror_mode": {
    "name": "ipython",
    "version": 3
   },
   "file_extension": ".py",
   "mimetype": "text/x-python",
   "name": "python",
   "nbconvert_exporter": "python",
   "pygments_lexer": "ipython3",
   "version": "3.8.10"
  },
  "orig_nbformat": 4
 },
 "nbformat": 4,
 "nbformat_minor": 2
}
