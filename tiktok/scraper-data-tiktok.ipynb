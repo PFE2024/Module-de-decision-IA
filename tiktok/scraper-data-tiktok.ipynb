{
 "cells": [
  {
   "cell_type": "code",
   "execution_count": 1,
   "metadata": {},
   "outputs": [],
   "source": [
    "try:\n",
    "    import argparse\n",
    "    import json\n",
    "    import selenium\n",
    "    from selenium import webdriver\n",
    "    from selenium.webdriver.support.ui import WebDriverWait\n",
    "    from selenium.webdriver.chrome.options import Options as ChromeOptions\n",
    "    from selenium.webdriver.firefox.options import Options as FirefoxOptions\n",
    "    from selenium.webdriver.common.by import By\n",
    "    from selenium.webdriver.support import expected_conditions as EC\n",
    "    from fake_headers import Headers\n",
    "    from webdriver_manager.chrome import ChromeDriverManager\n",
    "    from webdriver_manager.firefox import GeckoDriverManager\n",
    "except ModuleNotFoundError:\n",
    "    print(\"Please download dependencies from requirement.txt\")\n",
    "except Exception as ex:\n",
    "    print(ex)"
   ]
  },
  {
   "cell_type": "code",
   "execution_count": 6,
   "metadata": {},
   "outputs": [
    {
     "name": "stderr",
     "output_type": "stream",
     "text": [
      "/tmp/ipykernel_175156/1022431427.py:18: DeprecationWarning: executable_path has been deprecated, please pass in a Service object\n",
      "  driver = webdriver.Chrome(ChromeDriverManager().install(),options=browser_option) #chromedriver's path in first argument\n"
     ]
    },
    {
     "name": "stdout",
     "output_type": "stream",
     "text": [
      "{\"sec_id\": \"MS4wLjABAAAAMTIweOzKPJn9q914JLRbWcRlhXeN9W8kpPjTMuw6h8W2v3W50_omfZqJgz0u6EAG\", \"id\": \"204350957021933568\", \"is_secret\": false, \"username\": \"douhalaribiii\", \"bio\": \"\\u062d\\u0633\\u0627\\u0628\\u064a  \\u0633\\u0646\\u0627\\u0628  \\ud83d\\udd14\\u2b07\\ufe0f\\n\\u0627\\u0644\\u0632\\u0639\\u064a\\u0645\\u0629 \\ud83d\\udc9c\\u0627\\u0645 \\u0627\\u0645\\u064a\\u0631\\ud83e\\udd0d\\n\\u0627\\u0644\\u0644\\u0647\\u0645 \\u0635\\u0644\\u064a \\u0648\\u0633\\u0644\\u0645 \\u0639\\u0644\\u0649 \\u0633\\u064a\\u062f\\u064a\\u0646\\u0627 \\u0645\\u062d\\u0645\\u062f \\u2764\\ufe0f\", \"avatar_image\": \"https://p16-sign-va.tiktokcdn.com/tos-maliva-avt-0068/9ceb78fd156e9063f8a2d5c0970fd13f~c5_720x720.jpeg?x-expires=1678878000&x-signature=41i84iJPAZ1qnzdEhsHLpG04xkc%3D\", \"following\": 1422, \"followers\": 10900000, \"hearts\": 186200000, \"heart_count\": 186200000, \"video_count\": 2008, \"is_verified\": true}\n"
     ]
    }
   ],
   "source": [
    "\n",
    "class Tiktok:\n",
    "\n",
    "    def scrap(username):\n",
    "        try:\n",
    "            URL = 'https://tiktok.com/@{}'.format(username)\n",
    "\n",
    "            try:\n",
    "                browser_option = ChromeOptions()\n",
    "                ua = Headers().generate()      #fake user agent\n",
    "                browser_option.add_argument('--headless')\n",
    "                browser_option.add_argument('--disable-extensions')\n",
    "                browser_option.add_argument('--incognito')\n",
    "                browser_option.add_argument('--disable-gpu')\n",
    "                browser_option.add_argument('--log-level=3')\n",
    "                browser_option.add_argument(f'user-agent={ua}')\n",
    "                browser_option.add_argument('--disable-notifications')\n",
    "                browser_option.add_argument('--disable-popup-blocking')\n",
    "                driver = webdriver.Chrome(ChromeDriverManager().install(),options=browser_option) #chromedriver's path in first argument\n",
    "                driver.get(URL)\n",
    "            except AttributeError:\n",
    "                print(\"Driver is not set\")\n",
    "                exit()\n",
    "            wait = WebDriverWait(driver, 10)\n",
    "            element = wait.until(EC.title_contains(\"@{}\".format(username)))\n",
    "            state_data = driver.execute_script(\"return window['SIGI_STATE']\")\n",
    "            user_data = state_data['UserModule']['users'][username.lower()]\n",
    "            stats_data = state_data['UserModule']['stats'][username.lower()]\n",
    "            sec_id = user_data['secUid']\n",
    "            user_id = user_data['id']\n",
    "            is_secret = user_data['secret']\n",
    "            unique_name = user_data['uniqueId']\n",
    "            signature = user_data['signature']\n",
    "            avatar = user_data['avatarMedium']\n",
    "            following = stats_data['followingCount']\n",
    "            followers = stats_data['followerCount']\n",
    "            heart = stats_data['heart']\n",
    "            heart_count = stats_data['heartCount']\n",
    "            video = stats_data['videoCount']\n",
    "            is_verified = user_data['verified']\n",
    "\n",
    "\n",
    "            profile_data =  {\n",
    "                    'sec_id' : sec_id,\n",
    "                    'id' : user_id,\n",
    "                    'is_secret' : is_secret,\n",
    "                    'username' : unique_name,\n",
    "                    'bio' : signature,\n",
    "                    'avatar_image' : avatar,\n",
    "                    'following' : following,\n",
    "                    'followers' : followers,\n",
    "                    'hearts' : heart,\n",
    "                    'heart_count' : heart_count,\n",
    "                    'video_count' : video,\n",
    "                    'is_verified' : is_verified,\n",
    "                }\n",
    "            driver.close()\n",
    "            driver.quit()\n",
    "            return json.dumps(profile_data)\n",
    "        except Exception as ex:\n",
    "            driver.close()\n",
    "            driver.quit()\n",
    "            print(ex)\n",
    "print(Tiktok.scrap('douhalaribiii'))"
   ]
  }
 ],
 "metadata": {
  "kernelspec": {
   "display_name": "Python 3",
   "language": "python",
   "name": "python3"
  },
  "language_info": {
   "codemirror_mode": {
    "name": "ipython",
    "version": 3
   },
   "file_extension": ".py",
   "mimetype": "text/x-python",
   "name": "python",
   "nbconvert_exporter": "python",
   "pygments_lexer": "ipython3",
   "version": "3.8.10"
  },
  "orig_nbformat": 4
 },
 "nbformat": 4,
 "nbformat_minor": 2
}
