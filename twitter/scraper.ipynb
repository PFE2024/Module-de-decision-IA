{
 "cells": [
  {
   "attachments": {},
   "cell_type": "markdown",
   "metadata": {},
   "source": [
    "# API Methode"
   ]
  },
  {
   "cell_type": "code",
   "execution_count": 1,
   "metadata": {},
   "outputs": [
    {
     "name": "stdout",
     "output_type": "stream",
     "text": [
      "{'name': 'Carli Birckner', 'id': 105916557, 'username': 'CBirckner', 'created_at': datetime.datetime(2010, 1, 17, 22, 54, 19, tzinfo=datetime.timezone.utc), 'created_at_year': 2010, 'description': 'Television producer. Emmy Award winner. Disney enthusiast. ZBB followers. Kitty crazy.', 'location': 'Baltimore, MD', 'profile_image_url': 'https://pbs.twimg.com/profile_images/632916759557840896/35puTLF2_normal.jpg', 'protected': False, 'followers_count': 54, 'following_count': 131, 'tweet_count': 270, 'listed_count': 2, 'verified': False, 'verified_type': 'none', 'withheld': None, 'pinned_tweet_id': None}\n"
     ]
    }
   ],
   "source": [
    "import tweepy\n",
    "\n",
    "from datetime import datetime\n",
    "\n",
    "consumer_key= 'txGKpZibczbB3viciPGaIht1h'\n",
    "consumer_secret= 'LdBcAwDspNV2IoGdBrDC5wTiprqW4LiHPFTOWcq95a9FgkWc5M'\n",
    "access_token= '1622613622860967937-HtuI8jqgHy8P5fJgN1EKGLqqDqWCOw'\n",
    "access_token_secret= 'uEpId3rtrIdNZe9iylsohsu7xvoMHs8NHgfNOndfgh6Me'\n",
    "bearer_token=\"AAAAAAAAAAAAAAAAAAAAAJ%2BwlgEAAAAAApXZ%2BQkCOMMCUz8yA0Q2U7cIx4A%3D54C8m6MSpNmM1g4oeEH5ZpzknYFfJ4zYSWSaxVteTpfofyg5Ni\"\n",
    "client = tweepy.Client(bearer_token, wait_on_rate_limit=True)\n",
    "\n",
    "user = client.get_user(username=\"CBirckner\",user_fields=[\"created_at\", \"description\",\"id\", \"location\", \"name\", \"pinned_tweet_id\", \"profile_image_url\", \"protected\", \"public_metrics\", \"url\", \"username\", \"verified\", \"verified_type\", \"withheld\"])\n",
    "\n",
    "profile_data =  {\n",
    "                    'name' : user.data.name,\n",
    "                    'id' : user.data.id,\n",
    "                    \n",
    "                    'username' : user.data.username,\n",
    "                    'created_at' : user.data.created_at,\n",
    "                    'created_at_year':datetime.strptime(str(user.data.created_at)[:19], '%Y-%m-%d %H:%M:%S').year,\n",
    "                    'description' : user.data.description,\n",
    "                    'location' : user.data.location,\n",
    "    \n",
    "                    'profile_image_url' : user.data.profile_image_url,\n",
    "                    'protected' : user.data.protected,\n",
    "                    'followers_count' : user.data.public_metrics[\"followers_count\"],\n",
    "                    'following_count' : user.data.public_metrics[\"following_count\"],\n",
    "                    'tweet_count' : user.data.public_metrics[\"tweet_count\"],\n",
    "                     'listed_count' : user.data.public_metrics[\"listed_count\"],\n",
    "                    'verified' : user.data.verified,\n",
    "                    'verified_type' : user.data.verified_type,\n",
    "                       'withheld' : user.data.withheld,\n",
    "                       'pinned_tweet_id':user.data.pinned_tweet_id\n",
    "                }\n",
    "print(profile_data)\n",
    "\n",
    "tweets = client.get_liked_tweets(id=profile_data['id'], tweet_fields=['context_annotations','created_at','geo'])\n",
    "\n",
    "\n",
    "# tweets = client.get_all_tweets_count()"
   ]
  },
  {
   "attachments": {},
   "cell_type": "markdown",
   "metadata": {},
   "source": [
    "# scraping methode with selenium"
   ]
  },
  {
   "cell_type": "code",
   "execution_count": 6,
   "metadata": {},
   "outputs": [
    {
     "name": "stdout",
     "output_type": "stream",
     "text": [
      "Loading Page...\n",
      "wait script...\n",
      "get html\n",
      "{'@context': 'http://schema.org', '@type': 'ProfilePage', 'dateCreated': '2010-01-17T22:54:19.000Z', 'author': {'@type': 'Person', 'additionalName': 'CBirckner', 'description': 'Television producer. Emmy Award winner. Disney enthusiast. ZBB followers. Kitty crazy.', 'givenName': 'Carli Birckner', 'homeLocation': {'@type': 'Place', 'name': 'Baltimore, MD'}, 'identifier': '105916557', 'image': {'@type': 'ImageObject', 'contentUrl': 'https://pbs.twimg.com/profile_images/632916759557840896/35puTLF2_400x400.jpg', 'thumbnailUrl': 'https://pbs.twimg.com/profile_images/632916759557840896/35puTLF2_normal.jpg'}, 'interactionStatistic': [{'@type': 'InteractionCounter', 'interactionType': 'https://schema.org/FollowAction', 'name': 'Follows', 'userInteractionCount': 55}, {'@type': 'InteractionCounter', 'interactionType': 'https://schema.org/SubscribeAction', 'name': 'Friends', 'userInteractionCount': 131}, {'@type': 'InteractionCounter', 'interactionType': 'https://schema.org/WriteAction', 'name': 'Tweets', 'userInteractionCount': 270}], 'url': 'https://twitter.com/CBirckner'}, 'contentRating': ''}\n"
     ]
    }
   ],
   "source": [
    "from selenium import webdriver\n",
    "from webdriver_manager.chrome import ChromeDriverManager\n",
    "from selenium.webdriver.chrome.options import Options as ChromeOptions\n",
    "from fake_headers import Headers\n",
    "from selenium.webdriver.chrome.service import Service\n",
    "from bs4 import BeautifulSoup\n",
    "from selenium.webdriver.support.ui import WebDriverWait \n",
    "from selenium.webdriver.common.by import By\n",
    "from selenium.webdriver.support import expected_conditions as EC\n",
    "import json\n",
    "def set_properties(browser_option):\n",
    "            ua = Headers().generate()      #fake user agent\n",
    "            browser_option.add_argument('--headless')\n",
    "            browser_option.add_argument('--disable-extensions')\n",
    "            browser_option.add_argument('--incognito')\n",
    "            browser_option.add_argument('--disable-gpu')\n",
    "            browser_option.add_argument('--log-level=3')\n",
    "            browser_option.add_argument(f'user-agent={ua}')\n",
    "            browser_option.add_argument('--disable-notifications')\n",
    "            browser_option.add_argument('--disable-popup-blocking')\n",
    "\n",
    "            return browser_option\n",
    "browser_option = ChromeOptions()\n",
    "browser_option = set_properties(browser_option)\n",
    "driver = webdriver.Chrome(service=Service(ChromeDriverManager().install()),options=browser_option) #chromedriver's path in first argument\n",
    "print(\"Loading Page...\")\n",
    "driver.get(\"https://twitter.com/CBirckner\")\n",
    "print(\"wait script...\")\n",
    "WebDriverWait(driver, 20).until(EC.presence_of_element_located((By.XPATH , \"//script[@data-testid='UserProfileSchema-test']\")))\n",
    "print(\"get html\")\n",
    "html1 = driver.execute_script(\"return document.documentElement.outerHTML\")\n",
    "# This will get the initial html - before javascript\n",
    "# html1 = driver.page_source\n",
    "\n",
    "# parse html content\n",
    "soup = BeautifulSoup(driver.page_source , 'html.parser')\n",
    "\n",
    "res=soup.find(\"head\").find('script', attrs={'data-testid': 'UserProfileSchema-test'})\n",
    "\n",
    "json_object = json.loads(res.contents[0])\n",
    "print(json_object)"
   ]
  },
  {
   "attachments": {},
   "cell_type": "markdown",
   "metadata": {},
   "source": [
    "# scraper methode with snscrape"
   ]
  },
  {
   "cell_type": "code",
   "execution_count": 66,
   "metadata": {},
   "outputs": [
    {
     "name": "stdout",
     "output_type": "stream",
     "text": [
      "<class 'snscrape.modules.twitter.User'>\n",
      "{'name': 'Carli Birckner', 'id': 105916557, 'username': 'CBirckner', 'created_at': datetime.datetime(2010, 1, 17, 22, 54, 19, tzinfo=datetime.timezone.utc), 'created_at_year': 2010, 'description': 'Television producer. Emmy Award winner. Disney enthusiast. ZBB followers. Kitty crazy.', 'location': 'Baltimore, MD', 'profile_image_url': 'https://pbs.twimg.com/profile_images/632916759557840896/35puTLF2_normal.jpg', 'protected': False, 'followers_count': 55, 'following_count': 131, 'tweet_count': 270, 'listed_count': 2, 'favourites_count': 1484, 'media_count': 2, 'verified': False}\n"
     ]
    }
   ],
   "source": [
    "import snscrape.modules.twitter as sntwitter\n",
    "data = sntwitter.TwitterUserScraper('CBirckner')._get_entity()\n",
    "print(type(data))\n",
    "\n",
    "\n",
    "\n",
    "profile_data =  {\n",
    "                    'name' : data.displayname,\n",
    "                    'id' : data.id,\n",
    "                    'username' : data.username,\n",
    "                    'created_at' : data.created,\n",
    "                    'created_at_year':datetime.strptime(str(data.created)[:19], '%Y-%m-%d %H:%M:%S').year,\n",
    "                    'description' : data.renderedDescription,\n",
    "                    'location' : data.location,\n",
    "    \n",
    "                    'profile_image_url' : data.profileImageUrl,\n",
    "                    'protected' : data.protected,\n",
    "                    'followers_count' : data.followersCount,\n",
    "                    'following_count' : data.friendsCount,\n",
    "                    'tweet_count' :data.statusesCount,\n",
    "                    'listed_count' : data.listedCount,\n",
    "                     'favourites_count' :data.favouritesCount,\n",
    "                      'media_count' :data.mediaCount,\n",
    "                    'verified' :data.verified\n",
    "                }\n",
    "print(profile_data)\n",
    "\n",
    "\n"
   ]
  }
 ],
 "metadata": {
  "kernelspec": {
   "display_name": "env",
   "language": "python",
   "name": "python3"
  },
  "language_info": {
   "codemirror_mode": {
    "name": "ipython",
    "version": 3
   },
   "file_extension": ".py",
   "mimetype": "text/x-python",
   "name": "python",
   "nbconvert_exporter": "python",
   "pygments_lexer": "ipython3",
   "version": "3.8.10"
  },
  "orig_nbformat": 4,
  "vscode": {
   "interpreter": {
    "hash": "63488a96fd0bba3320158f272a0a8d73270f64723864a8c34004b5b3d4f1d348"
   }
  }
 },
 "nbformat": 4,
 "nbformat_minor": 2
}
