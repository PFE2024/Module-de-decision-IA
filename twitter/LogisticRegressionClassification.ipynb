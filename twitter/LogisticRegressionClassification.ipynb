{
  "cells": [
    {
      "attachments": {},
      "cell_type": "markdown",
      "metadata": {},
      "source": [
        "Import"
      ]
    },
    {
      "cell_type": "code",
      "execution_count": 44,
      "metadata": {
        "trusted": true
      },
      "outputs": [],
      "source": [
        "import pandas as pd\n",
        "import numpy as np\n",
        "from datetime import datetime\n",
        "from sklearn.model_selection import train_test_split\n",
        "from sklearn.linear_model import LogisticRegression\n",
        "from sklearn.metrics import accuracy_score\n",
        "from sklearn import metrics\n",
        "from sklearn.metrics import classification_report\n",
        "from sklearn.metrics import confusion_matrix\n",
        "from matplotlib import pyplot as plt\n",
        "import seaborn as sns"
      ]
    },
    {
      "attachments": {},
      "cell_type": "markdown",
      "metadata": {},
      "source": [
        "Load Data"
      ]
    },
    {
      "cell_type": "code",
      "execution_count": 45,
      "metadata": {},
      "outputs": [],
      "source": [
        "data = pd.read_csv('cleandata.csv')\n",
        "\n",
        "def creation_year(year):\n",
        "    dt = datetime.strptime(str(year), '%Y-%m-%d %H:%M:%S')\n",
        "    return dt.year\n",
        "\n",
        "y = data.account_type.values.tolist()\n",
        "\n",
        "def extract_features(x):\n",
        "    columns=['favourites_count','followers_count','friends_count','statuses_count','verified','created']\n",
        "    # x.loc[:,'created']= creation_year(x['created_at'])\n",
        "    x.loc[:,'created'] = x.apply(lambda row :creation_year(row[\"created_at\"]), axis=1)\n",
        "    x=x.loc[:,columns]\n",
        "    return x\n",
        "\n",
        "x_train, x_test, y_train, y_test = train_test_split(extract_features(data), y, test_size=0.2, random_state=48)"
      ]
    },
    {
      "attachments": {},
      "cell_type": "markdown",
      "metadata": {},
      "source": [
        "Split the data into training and testing sets"
      ]
    },
    {
      "cell_type": "code",
      "execution_count": 46,
      "metadata": {
        "trusted": true
      },
      "outputs": [
        {
          "data": {
            "text/plain": [
              "'There are 3743 samples for training, and 33695 samples for validation testing'"
            ]
          },
          "execution_count": 46,
          "metadata": {},
          "output_type": "execute_result"
        }
      ],
      "source": [
        "from torch.utils.data import random_split\n",
        "\n",
        "# Split into training and validation sets\n",
        "train_size = int(0.1 * len(data))\n",
        "val_size = len(data) - train_size\n",
        "\n",
        "train, test= random_split(data, [train_size, val_size])\n",
        "\n",
        "f'There are {train_size} samples for training, and {val_size} samples for validation testing'\n",
        "\n"
      ]
    },
    {
      "attachments": {},
      "cell_type": "markdown",
      "metadata": {},
      "source": [
        "Train the Logistic Regression model"
      ]
    },
    {
      "cell_type": "code",
      "execution_count": 47,
      "metadata": {
        "trusted": true
      },
      "outputs": [
        {
          "name": "stdout",
          "output_type": "stream",
          "text": [
            "CPU times: user 207 ms, sys: 138 ms, total: 345 ms\n",
            "Wall time: 106 ms\n",
            "\n",
            "Training Accuracy score: 0.6737562604340568\n",
            "Testing Accuracy score: 0.6625267094017094\n"
          ]
        }
      ],
      "source": [
        "lr = LogisticRegression(random_state=48)\n",
        "%time lr.fit(x_train,y_train)\n",
        "\n",
        "y_pred_train = lr.predict(x_train)\n",
        "y_pred_test = lr.predict(x_test)\n",
        "print(\"\\nTraining Accuracy score:\",accuracy_score(y_train, y_pred_train))\n",
        "print(\"Testing Accuracy score:\",accuracy_score(y_test, y_pred_test))"
      ]
    },
    {
      "attachments": {},
      "cell_type": "markdown",
      "metadata": {},
      "source": [
        "Calculate the accuracy of the model"
      ]
    },
    {
      "cell_type": "code",
      "execution_count": 48,
      "metadata": {
        "trusted": true
      },
      "outputs": [
        {
          "name": "stdout",
          "output_type": "stream",
          "text": [
            "Accuracy  classification : 0.6625267094017094\n"
          ]
        }
      ],
      "source": [
        "def accurracy(y_true,y_pred_test):\n",
        "    return np.sum(y_true==y_pred_test)/len(y_true)\n",
        "print('Accuracy  classification :',accurracy(y_test,y_pred_test))\n"
      ]
    },
    {
      "attachments": {},
      "cell_type": "markdown",
      "metadata": {},
      "source": [
        "Calculate the classification report of the model"
      ]
    },
    {
      "cell_type": "code",
      "execution_count": 49,
      "metadata": {},
      "outputs": [
        {
          "name": "stdout",
          "output_type": "stream",
          "text": [
            "classification_report \n",
            "               precision    recall  f1-score   support\n",
            "\n",
            "         bot       0.59      0.01      0.03      2537\n",
            "       human       0.66      1.00      0.80      4951\n",
            "\n",
            "    accuracy                           0.66      7488\n",
            "   macro avg       0.62      0.50      0.41      7488\n",
            "weighted avg       0.64      0.66      0.54      7488\n",
            "\n"
          ]
        }
      ],
      "source": [
        "print(\"classification_report \\n \"+classification_report(y_test, y_pred_test))"
      ]
    },
    {
      "cell_type": "code",
      "execution_count": 51,
      "metadata": {
        "trusted": true
      },
      "outputs": [
        {
          "data": {
            "image/png": "[encoded data removed]",
            "text/plain": [
              "<Figure size 640x480 with 2 Axes>"
            ]
          },
          "metadata": {},
          "output_type": "display_data"
        }
      ],
      "source": [
        "cm = metrics.confusion_matrix(y_test,  y_pred_test)\n",
        "\n",
        "cm_matrixNB = pd.DataFrame(data=cm, columns=[ 'human', 'bot'], \n",
        "                        index=[ 'human', 'bot'])\n",
        "sns.heatmap(cm_matrixNB, annot=True, fmt='d', cmap='YlGnBu')\n",
        "plt.show()\n"
      ]
    }
  ],
  "metadata": {
    "kernelspec": {
      "display_name": "Python 3",
      "language": "python",
      "name": "python3"
    },
    "language_info": {
      "codemirror_mode": {
        "name": "ipython",
        "version": 3
      },
      "file_extension": ".py",
      "mimetype": "text/x-python",
      "name": "python",
      "nbconvert_exporter": "python",
      "pygments_lexer": "ipython3",
      "version": "3.8.10"
    },
    "vscode": {
      "interpreter": {
        "hash": "916dbcbb3f70747c44a77c7bcd40155683ae19c65e1c03b4aa3499c5328201f1"
      }
    }
  },
  "nbformat": 4,
  "nbformat_minor": 4
}
